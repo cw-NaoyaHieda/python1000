{
 "cells": [
  {
   "cell_type": "markdown",
   "metadata": {},
   "source": [
    "## 準備運動"
   ]
  },
  {
   "cell_type": "code",
   "execution_count": 1,
   "metadata": {},
   "outputs": [
    {
     "data": {
      "text/plain": [
       "'desserts'"
      ]
     },
     "execution_count": 1,
     "metadata": {},
     "output_type": "execute_result"
    }
   ],
   "source": [
    "'stressed'[::-1]"
   ]
  },
  {
   "cell_type": "code",
   "execution_count": 2,
   "metadata": {},
   "outputs": [
    {
     "data": {
      "text/plain": [
       "'パトカー'"
      ]
     },
     "execution_count": 2,
     "metadata": {},
     "output_type": "execute_result"
    }
   ],
   "source": [
    "'パタトクカシーー'[::2]"
   ]
  },
  {
   "cell_type": "code",
   "execution_count": 3,
   "metadata": {},
   "outputs": [
    {
     "data": {
      "text/plain": [
       "'パタトクカシーー'"
      ]
     },
     "execution_count": 3,
     "metadata": {},
     "output_type": "execute_result"
    }
   ],
   "source": [
    "c = ''\n",
    "for a,b in zip('パトカー','タクシー'):\n",
    "    c = c + a + b\n",
    "c"
   ]
  },
  {
   "cell_type": "code",
   "execution_count": 4,
   "metadata": {},
   "outputs": [
    {
     "data": {
      "text/plain": [
       "'HBCNOFPSK'"
      ]
     },
     "execution_count": 4,
     "metadata": {},
     "output_type": "execute_result"
    }
   ],
   "source": [
    "b = ''\n",
    "A = 'Hi He Lied Because Boron Could Not Oxidize Fluorine. New Nations Might Also Sign Peace Security Clause. Arthur King Can'\n",
    "nums = [1, 5, 6, 7, 8, 9, 15, 16, 19]\n",
    "t = 1\n",
    "for a in A.split():\n",
    "    if t in nums:\n",
    "        b = b + a[0]\n",
    "    t = t+1\n",
    "b"
   ]
  },
  {
   "cell_type": "code",
   "execution_count": 5,
   "metadata": {},
   "outputs": [
    {
     "data": {
      "text/plain": [
       "['Ia', 'am', 'ma', 'an', 'nN', 'NL', 'LP', 'Pe', 'er']"
      ]
     },
     "execution_count": 5,
     "metadata": {},
     "output_type": "execute_result"
    }
   ],
   "source": [
    "def myngram(tango, n, mozi=True):\n",
    "    ans = []\n",
    "    if mozi:\n",
    "        tango = tango.replace(' ', '')\n",
    "        for ind in range(0,len(tango)):\n",
    "            if len(tango[ind:(ind+n)]) != n:\n",
    "                break\n",
    "            ans.append(tango[ind] + tango[ind+n-1])\n",
    "    else:\n",
    "        tangos = tango.split()\n",
    "        for ind in range(0,len(tangos)):\n",
    "            if len(tangos[ind:(ind+n)]) != n:\n",
    "                break\n",
    "            ans.append(tangos[ind] + ' ' + tangos[ind + n - 1])\n",
    "    return ans\n",
    "\n",
    "myngram('I am an NLPer', 2)"
   ]
  },
  {
   "cell_type": "code",
   "execution_count": 6,
   "metadata": {},
   "outputs": [
    {
     "data": {
      "text/plain": [
       "['I am', 'am an', 'an NLPer']"
      ]
     },
     "execution_count": 6,
     "metadata": {},
     "output_type": "execute_result"
    }
   ],
   "source": [
    "myngram('I am an NLPer', 2, False)"
   ]
  },
  {
   "cell_type": "code",
   "execution_count": 7,
   "metadata": {},
   "outputs": [
    {
     "data": {
      "text/plain": [
       "{'ad', 'ap', 'ar', 'di', 'is', 'pa', 'ra', 'se'}"
      ]
     },
     "execution_count": 7,
     "metadata": {},
     "output_type": "execute_result"
    }
   ],
   "source": [
    "a = myngram('paraparaparadise', 2)\n",
    "a_s = set(a)\n",
    "b = myngram('paragraph', 2)\n",
    "b_s =  set(b)\n",
    "a_s"
   ]
  },
  {
   "cell_type": "code",
   "execution_count": 8,
   "metadata": {},
   "outputs": [
    {
     "data": {
      "text/plain": [
       "{'ag', 'ap', 'ar', 'gr', 'pa', 'ph', 'ra'}"
      ]
     },
     "execution_count": 8,
     "metadata": {},
     "output_type": "execute_result"
    }
   ],
   "source": [
    "b_s"
   ]
  },
  {
   "cell_type": "code",
   "execution_count": 9,
   "metadata": {},
   "outputs": [
    {
     "data": {
      "text/plain": [
       "{'ad', 'ag', 'ap', 'ar', 'di', 'gr', 'is', 'pa', 'ph', 'ra', 'se'}"
      ]
     },
     "execution_count": 9,
     "metadata": {},
     "output_type": "execute_result"
    }
   ],
   "source": [
    "a_s.union(b_s)"
   ]
  },
  {
   "cell_type": "code",
   "execution_count": 10,
   "metadata": {},
   "outputs": [
    {
     "data": {
      "text/plain": [
       "{'ap', 'ar', 'pa', 'ra'}"
      ]
     },
     "execution_count": 10,
     "metadata": {},
     "output_type": "execute_result"
    }
   ],
   "source": [
    "a_s.intersection(b_s)"
   ]
  },
  {
   "cell_type": "code",
   "execution_count": 11,
   "metadata": {},
   "outputs": [
    {
     "data": {
      "text/plain": [
       "{'ad', 'ag', 'di', 'gr', 'is', 'ph', 'se'}"
      ]
     },
     "execution_count": 11,
     "metadata": {},
     "output_type": "execute_result"
    }
   ],
   "source": [
    "a_s.difference(b_s).union(b_s.difference(a_s))"
   ]
  },
  {
   "cell_type": "code",
   "execution_count": 12,
   "metadata": {},
   "outputs": [],
   "source": [
    "def str_1(x, y ,z):\n",
    "    return str(x) + 'の時の' + str(y) + 'は' + str(z)"
   ]
  },
  {
   "cell_type": "code",
   "execution_count": 13,
   "metadata": {},
   "outputs": [
    {
     "data": {
      "text/plain": [
       "'トマトの時のナスはカボチャ'"
      ]
     },
     "execution_count": 13,
     "metadata": {},
     "output_type": "execute_result"
    }
   ],
   "source": [
    "str_1('トマト','ナス','カボチャ')"
   ]
  },
  {
   "cell_type": "code",
   "execution_count": 14,
   "metadata": {},
   "outputs": [],
   "source": [
    "def cipher(a):\n",
    "    komozi = [chr(i) for i in range(97, 97+26)]\n",
    "    if a in komozi:\n",
    "        a = chr(219 - ord(a)); \n",
    "    return a"
   ]
  },
  {
   "cell_type": "code",
   "execution_count": 15,
   "metadata": {},
   "outputs": [
    {
     "data": {
      "text/plain": [
       "'d'"
      ]
     },
     "execution_count": 15,
     "metadata": {},
     "output_type": "execute_result"
    }
   ],
   "source": [
    "cipher('w')"
   ]
  },
  {
   "cell_type": "code",
   "execution_count": 16,
   "metadata": {},
   "outputs": [],
   "source": [
    "import random\n",
    "\n",
    "def Typoglycemia(a):\n",
    "    a = a.split()\n",
    "    c = ''\n",
    "    for b in a:\n",
    "        if len(b) > 4:\n",
    "            b_start = b[0]\n",
    "            b_last = b[len(b)-1]\n",
    "            b_nakami_num = random.sample(range(1,len(b)-1),len(b)-2)\n",
    "            b_nakami = ''.join([b[i] for i in b_nakami_num])\n",
    "            b = b_start + b_nakami + b_last\n",
    "            c = c + ' ' + b\n",
    "        else:\n",
    "            c = c + ' ' + b\n",
    "    return c.lstrip(\" \")"
   ]
  },
  {
   "cell_type": "code",
   "execution_count": 17,
   "metadata": {},
   "outputs": [
    {
     "data": {
      "text/plain": [
       "\"I cnou'dlt bleveie that I cluod alluctay utdnsraend what I was rneaidg : the pnemoenhal pweor of the haumn mind .\""
      ]
     },
     "execution_count": 17,
     "metadata": {},
     "output_type": "execute_result"
    }
   ],
   "source": [
    "Typoglycemia(\"I couldn't believe that I could actually understand what I was reading : the phenomenal power of the human mind .\")"
   ]
  },
  {
   "cell_type": "markdown",
   "metadata": {},
   "source": [
    "## UNIXコマンドの基礎"
   ]
  },
  {
   "cell_type": "code",
   "execution_count": 18,
   "metadata": {},
   "outputs": [],
   "source": [
    "f = open('hightemp.txt')\n",
    "data1 = f.read()  # ファイル終端まで全て読んだデータを返す\n",
    "f.close()"
   ]
  },
  {
   "cell_type": "code",
   "execution_count": 19,
   "metadata": {},
   "outputs": [
    {
     "data": {
      "text/plain": [
       "24"
      ]
     },
     "execution_count": 19,
     "metadata": {},
     "output_type": "execute_result"
    }
   ],
   "source": [
    "import pandas as pd\n",
    "data2 = pd.read_table('hightemp.txt',header=None)\n",
    "len(data2)"
   ]
  },
  {
   "cell_type": "code",
   "execution_count": 20,
   "metadata": {
    "scrolled": true
   },
   "outputs": [
    {
     "data": {
      "text/plain": [
       "'高知県 江川崎 41 2013-08-12\\n埼玉県 熊谷 40.9 2007-08-16\\n岐阜県 多治見 40.9 2007-08-16\\n山形県 山形 40.8 1933-07-25\\n山梨県 甲府 40.7 2013-08-10\\n和歌山県 かつらぎ 40.6 1994-08-08\\n静岡県 天竜 40.6 1994-08-04\\n山梨県 勝沼 40.5 2013-08-10\\n埼玉県 越谷 40.4 2007-08-16\\n群馬県 館林 40.3 2007-08-16\\n群馬県 上里見 40.3 1998-07-04\\n愛知県 愛西 40.3 1994-08-05\\n千葉県 牛久 40.2 2004-07-20\\n静岡県 佐久間 40.2 2001-07-24\\n愛媛県 宇和島 40.2 1927-07-22\\n山形県 酒田 40.1 1978-08-03\\n岐阜県 美濃 40 2007-08-16\\n群馬県 前橋 40 2001-07-24\\n千葉県 茂原 39.9 2013-08-11\\n埼玉県 鳩山 39.9 1997-07-05\\n大阪府 豊中 39.9 1994-08-08\\n山梨県 大月 39.9 1990-07-19\\n山形県 鶴岡 39.9 1978-08-03\\n愛知県 名古屋 39.9 1942-08-02\\n'"
      ]
     },
     "execution_count": 20,
     "metadata": {},
     "output_type": "execute_result"
    }
   ],
   "source": [
    "data1.replace('\\t', ' ')"
   ]
  },
  {
   "cell_type": "code",
   "execution_count": 21,
   "metadata": {},
   "outputs": [],
   "source": [
    "data2[0].to_csv('col1.txt',header=False)\n",
    "data2[1].to_csv('col2.txt',header=False)"
   ]
  },
  {
   "cell_type": "code",
   "execution_count": 22,
   "metadata": {},
   "outputs": [],
   "source": [
    "tmp1 = pd.read_table('col1.txt', header=None, delimiter=',')\n",
    "tmp2 = pd.read_table('col2.txt', header=None, delimiter=',')"
   ]
  },
  {
   "cell_type": "code",
   "execution_count": 23,
   "metadata": {},
   "outputs": [
    {
     "data": {
      "text/html": [
       "<div>\n",
       "<style scoped>\n",
       "    .dataframe tbody tr th:only-of-type {\n",
       "        vertical-align: middle;\n",
       "    }\n",
       "\n",
       "    .dataframe tbody tr th {\n",
       "        vertical-align: top;\n",
       "    }\n",
       "\n",
       "    .dataframe thead th {\n",
       "        text-align: right;\n",
       "    }\n",
       "</style>\n",
       "<table border=\"1\" class=\"dataframe\">\n",
       "  <thead>\n",
       "    <tr style=\"text-align: right;\">\n",
       "      <th></th>\n",
       "      <th>1</th>\n",
       "      <th>1</th>\n",
       "    </tr>\n",
       "  </thead>\n",
       "  <tbody>\n",
       "    <tr>\n",
       "      <th>0</th>\n",
       "      <td>高知県</td>\n",
       "      <td>江川崎</td>\n",
       "    </tr>\n",
       "    <tr>\n",
       "      <th>1</th>\n",
       "      <td>埼玉県</td>\n",
       "      <td>熊谷</td>\n",
       "    </tr>\n",
       "    <tr>\n",
       "      <th>2</th>\n",
       "      <td>岐阜県</td>\n",
       "      <td>多治見</td>\n",
       "    </tr>\n",
       "    <tr>\n",
       "      <th>3</th>\n",
       "      <td>山形県</td>\n",
       "      <td>山形</td>\n",
       "    </tr>\n",
       "    <tr>\n",
       "      <th>4</th>\n",
       "      <td>山梨県</td>\n",
       "      <td>甲府</td>\n",
       "    </tr>\n",
       "    <tr>\n",
       "      <th>5</th>\n",
       "      <td>和歌山県</td>\n",
       "      <td>かつらぎ</td>\n",
       "    </tr>\n",
       "    <tr>\n",
       "      <th>6</th>\n",
       "      <td>静岡県</td>\n",
       "      <td>天竜</td>\n",
       "    </tr>\n",
       "    <tr>\n",
       "      <th>7</th>\n",
       "      <td>山梨県</td>\n",
       "      <td>勝沼</td>\n",
       "    </tr>\n",
       "    <tr>\n",
       "      <th>8</th>\n",
       "      <td>埼玉県</td>\n",
       "      <td>越谷</td>\n",
       "    </tr>\n",
       "    <tr>\n",
       "      <th>9</th>\n",
       "      <td>群馬県</td>\n",
       "      <td>館林</td>\n",
       "    </tr>\n",
       "    <tr>\n",
       "      <th>10</th>\n",
       "      <td>群馬県</td>\n",
       "      <td>上里見</td>\n",
       "    </tr>\n",
       "    <tr>\n",
       "      <th>11</th>\n",
       "      <td>愛知県</td>\n",
       "      <td>愛西</td>\n",
       "    </tr>\n",
       "    <tr>\n",
       "      <th>12</th>\n",
       "      <td>千葉県</td>\n",
       "      <td>牛久</td>\n",
       "    </tr>\n",
       "    <tr>\n",
       "      <th>13</th>\n",
       "      <td>静岡県</td>\n",
       "      <td>佐久間</td>\n",
       "    </tr>\n",
       "    <tr>\n",
       "      <th>14</th>\n",
       "      <td>愛媛県</td>\n",
       "      <td>宇和島</td>\n",
       "    </tr>\n",
       "    <tr>\n",
       "      <th>15</th>\n",
       "      <td>山形県</td>\n",
       "      <td>酒田</td>\n",
       "    </tr>\n",
       "    <tr>\n",
       "      <th>16</th>\n",
       "      <td>岐阜県</td>\n",
       "      <td>美濃</td>\n",
       "    </tr>\n",
       "    <tr>\n",
       "      <th>17</th>\n",
       "      <td>群馬県</td>\n",
       "      <td>前橋</td>\n",
       "    </tr>\n",
       "    <tr>\n",
       "      <th>18</th>\n",
       "      <td>千葉県</td>\n",
       "      <td>茂原</td>\n",
       "    </tr>\n",
       "    <tr>\n",
       "      <th>19</th>\n",
       "      <td>埼玉県</td>\n",
       "      <td>鳩山</td>\n",
       "    </tr>\n",
       "    <tr>\n",
       "      <th>20</th>\n",
       "      <td>大阪府</td>\n",
       "      <td>豊中</td>\n",
       "    </tr>\n",
       "    <tr>\n",
       "      <th>21</th>\n",
       "      <td>山梨県</td>\n",
       "      <td>大月</td>\n",
       "    </tr>\n",
       "    <tr>\n",
       "      <th>22</th>\n",
       "      <td>山形県</td>\n",
       "      <td>鶴岡</td>\n",
       "    </tr>\n",
       "    <tr>\n",
       "      <th>23</th>\n",
       "      <td>愛知県</td>\n",
       "      <td>名古屋</td>\n",
       "    </tr>\n",
       "  </tbody>\n",
       "</table>\n",
       "</div>"
      ],
      "text/plain": [
       "       1     1\n",
       "0    高知県   江川崎\n",
       "1    埼玉県    熊谷\n",
       "2    岐阜県   多治見\n",
       "3    山形県    山形\n",
       "4    山梨県    甲府\n",
       "5   和歌山県  かつらぎ\n",
       "6    静岡県    天竜\n",
       "7    山梨県    勝沼\n",
       "8    埼玉県    越谷\n",
       "9    群馬県    館林\n",
       "10   群馬県   上里見\n",
       "11   愛知県    愛西\n",
       "12   千葉県    牛久\n",
       "13   静岡県   佐久間\n",
       "14   愛媛県   宇和島\n",
       "15   山形県    酒田\n",
       "16   岐阜県    美濃\n",
       "17   群馬県    前橋\n",
       "18   千葉県    茂原\n",
       "19   埼玉県    鳩山\n",
       "20   大阪府    豊中\n",
       "21   山梨県    大月\n",
       "22   山形県    鶴岡\n",
       "23   愛知県   名古屋"
      ]
     },
     "execution_count": 23,
     "metadata": {},
     "output_type": "execute_result"
    }
   ],
   "source": [
    "pd.concat([tmp1[1],tmp2[1]], axis=1)"
   ]
  },
  {
   "cell_type": "code",
   "execution_count": 24,
   "metadata": {},
   "outputs": [
    {
     "name": "stdout",
     "output_type": "stream",
     "text": [
      "指定行数読み込みます 3\n"
     ]
    },
    {
     "data": {
      "text/html": [
       "<div>\n",
       "<style scoped>\n",
       "    .dataframe tbody tr th:only-of-type {\n",
       "        vertical-align: middle;\n",
       "    }\n",
       "\n",
       "    .dataframe tbody tr th {\n",
       "        vertical-align: top;\n",
       "    }\n",
       "\n",
       "    .dataframe thead th {\n",
       "        text-align: right;\n",
       "    }\n",
       "</style>\n",
       "<table border=\"1\" class=\"dataframe\">\n",
       "  <thead>\n",
       "    <tr style=\"text-align: right;\">\n",
       "      <th></th>\n",
       "      <th>0</th>\n",
       "      <th>1</th>\n",
       "      <th>2</th>\n",
       "      <th>3</th>\n",
       "    </tr>\n",
       "  </thead>\n",
       "  <tbody>\n",
       "    <tr>\n",
       "      <th>0</th>\n",
       "      <td>高知県</td>\n",
       "      <td>江川崎</td>\n",
       "      <td>41.0</td>\n",
       "      <td>2013-08-12</td>\n",
       "    </tr>\n",
       "    <tr>\n",
       "      <th>1</th>\n",
       "      <td>埼玉県</td>\n",
       "      <td>熊谷</td>\n",
       "      <td>40.9</td>\n",
       "      <td>2007-08-16</td>\n",
       "    </tr>\n",
       "    <tr>\n",
       "      <th>2</th>\n",
       "      <td>岐阜県</td>\n",
       "      <td>多治見</td>\n",
       "      <td>40.9</td>\n",
       "      <td>2007-08-16</td>\n",
       "    </tr>\n",
       "  </tbody>\n",
       "</table>\n",
       "</div>"
      ],
      "text/plain": [
       "     0    1     2           3\n",
       "0  高知県  江川崎  41.0  2013-08-12\n",
       "1  埼玉県   熊谷  40.9  2007-08-16\n",
       "2  岐阜県  多治見  40.9  2007-08-16"
      ]
     },
     "execution_count": 24,
     "metadata": {},
     "output_type": "execute_result"
    }
   ],
   "source": [
    "n = input('指定行数読み込みます ')\n",
    "data2[:int(n)]"
   ]
  },
  {
   "cell_type": "code",
   "execution_count": 25,
   "metadata": {
    "scrolled": true
   },
   "outputs": [
    {
     "name": "stdout",
     "output_type": "stream",
     "text": [
      "指定行数 末尾から読み込みます 3\n"
     ]
    },
    {
     "data": {
      "text/html": [
       "<div>\n",
       "<style scoped>\n",
       "    .dataframe tbody tr th:only-of-type {\n",
       "        vertical-align: middle;\n",
       "    }\n",
       "\n",
       "    .dataframe tbody tr th {\n",
       "        vertical-align: top;\n",
       "    }\n",
       "\n",
       "    .dataframe thead th {\n",
       "        text-align: right;\n",
       "    }\n",
       "</style>\n",
       "<table border=\"1\" class=\"dataframe\">\n",
       "  <thead>\n",
       "    <tr style=\"text-align: right;\">\n",
       "      <th></th>\n",
       "      <th>0</th>\n",
       "      <th>1</th>\n",
       "      <th>2</th>\n",
       "      <th>3</th>\n",
       "    </tr>\n",
       "  </thead>\n",
       "  <tbody>\n",
       "    <tr>\n",
       "      <th>21</th>\n",
       "      <td>山梨県</td>\n",
       "      <td>大月</td>\n",
       "      <td>39.9</td>\n",
       "      <td>1990-07-19</td>\n",
       "    </tr>\n",
       "    <tr>\n",
       "      <th>22</th>\n",
       "      <td>山形県</td>\n",
       "      <td>鶴岡</td>\n",
       "      <td>39.9</td>\n",
       "      <td>1978-08-03</td>\n",
       "    </tr>\n",
       "    <tr>\n",
       "      <th>23</th>\n",
       "      <td>愛知県</td>\n",
       "      <td>名古屋</td>\n",
       "      <td>39.9</td>\n",
       "      <td>1942-08-02</td>\n",
       "    </tr>\n",
       "  </tbody>\n",
       "</table>\n",
       "</div>"
      ],
      "text/plain": [
       "      0    1     2           3\n",
       "21  山梨県   大月  39.9  1990-07-19\n",
       "22  山形県   鶴岡  39.9  1978-08-03\n",
       "23  愛知県  名古屋  39.9  1942-08-02"
      ]
     },
     "execution_count": 25,
     "metadata": {},
     "output_type": "execute_result"
    }
   ],
   "source": [
    "n = input('指定行数 末尾から読み込みます ')\n",
    "data2[len(data2)-int(n):]"
   ]
  },
  {
   "cell_type": "code",
   "execution_count": 26,
   "metadata": {},
   "outputs": [
    {
     "name": "stdout",
     "output_type": "stream",
     "text": [
      "分割すうを指定3\n",
      "      0     1     2           3\n",
      "0   高知県   江川崎  41.0  2013-08-12\n",
      "1   埼玉県    熊谷  40.9  2007-08-16\n",
      "2   岐阜県   多治見  40.9  2007-08-16\n",
      "3   山形県    山形  40.8  1933-07-25\n",
      "4   山梨県    甲府  40.7  2013-08-10\n",
      "5  和歌山県  かつらぎ  40.6  1994-08-08\n",
      "6   静岡県    天竜  40.6  1994-08-04\n",
      "7   山梨県    勝沼  40.5  2013-08-10\n",
      "      0    1     2           3\n",
      "8   埼玉県   越谷  40.4  2007-08-16\n",
      "9   群馬県   館林  40.3  2007-08-16\n",
      "10  群馬県  上里見  40.3  1998-07-04\n",
      "11  愛知県   愛西  40.3  1994-08-05\n",
      "12  千葉県   牛久  40.2  2004-07-20\n",
      "13  静岡県  佐久間  40.2  2001-07-24\n",
      "14  愛媛県  宇和島  40.2  1927-07-22\n",
      "15  山形県   酒田  40.1  1978-08-03\n",
      "      0    1     2           3\n",
      "16  岐阜県   美濃  40.0  2007-08-16\n",
      "17  群馬県   前橋  40.0  2001-07-24\n",
      "18  千葉県   茂原  39.9  2013-08-11\n",
      "19  埼玉県   鳩山  39.9  1997-07-05\n",
      "20  大阪府   豊中  39.9  1994-08-08\n",
      "21  山梨県   大月  39.9  1990-07-19\n",
      "22  山形県   鶴岡  39.9  1978-08-03\n",
      "23  愛知県  名古屋  39.9  1942-08-02\n"
     ]
    }
   ],
   "source": [
    "n = input(\"分割すうを指定\")\n",
    "tmp = data2\n",
    "nums = len(tmp)\n",
    "num_len = nums/int(n)\n",
    "num_start = 0\n",
    "num_end = num_len\n",
    "for i in range(int(n)):\n",
    "    print(tmp[int(num_start):int(num_end)])\n",
    "    num_start += num_len\n",
    "    num_end += num_len"
   ]
  },
  {
   "cell_type": "code",
   "execution_count": 27,
   "metadata": {},
   "outputs": [
    {
     "data": {
      "text/plain": [
       "0      高知県\n",
       "1      埼玉県\n",
       "2      岐阜県\n",
       "3      山形県\n",
       "4      山梨県\n",
       "5     和歌山県\n",
       "6      静岡県\n",
       "9      群馬県\n",
       "11     愛知県\n",
       "12     千葉県\n",
       "14     愛媛県\n",
       "20     大阪府\n",
       "Name: 0, dtype: object"
      ]
     },
     "execution_count": 27,
     "metadata": {},
     "output_type": "execute_result"
    }
   ],
   "source": [
    "data2[-data2[0].duplicated()][0]"
   ]
  },
  {
   "cell_type": "code",
   "execution_count": 28,
   "metadata": {},
   "outputs": [
    {
     "data": {
      "text/html": [
       "<div>\n",
       "<style scoped>\n",
       "    .dataframe tbody tr th:only-of-type {\n",
       "        vertical-align: middle;\n",
       "    }\n",
       "\n",
       "    .dataframe tbody tr th {\n",
       "        vertical-align: top;\n",
       "    }\n",
       "\n",
       "    .dataframe thead th {\n",
       "        text-align: right;\n",
       "    }\n",
       "</style>\n",
       "<table border=\"1\" class=\"dataframe\">\n",
       "  <thead>\n",
       "    <tr style=\"text-align: right;\">\n",
       "      <th></th>\n",
       "      <th>0</th>\n",
       "      <th>1</th>\n",
       "      <th>2</th>\n",
       "      <th>3</th>\n",
       "    </tr>\n",
       "  </thead>\n",
       "  <tbody>\n",
       "    <tr>\n",
       "      <th>0</th>\n",
       "      <td>高知県</td>\n",
       "      <td>江川崎</td>\n",
       "      <td>41.0</td>\n",
       "      <td>2013-08-12</td>\n",
       "    </tr>\n",
       "    <tr>\n",
       "      <th>2</th>\n",
       "      <td>岐阜県</td>\n",
       "      <td>多治見</td>\n",
       "      <td>40.9</td>\n",
       "      <td>2007-08-16</td>\n",
       "    </tr>\n",
       "    <tr>\n",
       "      <th>1</th>\n",
       "      <td>埼玉県</td>\n",
       "      <td>熊谷</td>\n",
       "      <td>40.9</td>\n",
       "      <td>2007-08-16</td>\n",
       "    </tr>\n",
       "    <tr>\n",
       "      <th>3</th>\n",
       "      <td>山形県</td>\n",
       "      <td>山形</td>\n",
       "      <td>40.8</td>\n",
       "      <td>1933-07-25</td>\n",
       "    </tr>\n",
       "    <tr>\n",
       "      <th>4</th>\n",
       "      <td>山梨県</td>\n",
       "      <td>甲府</td>\n",
       "      <td>40.7</td>\n",
       "      <td>2013-08-10</td>\n",
       "    </tr>\n",
       "    <tr>\n",
       "      <th>5</th>\n",
       "      <td>和歌山県</td>\n",
       "      <td>かつらぎ</td>\n",
       "      <td>40.6</td>\n",
       "      <td>1994-08-08</td>\n",
       "    </tr>\n",
       "    <tr>\n",
       "      <th>6</th>\n",
       "      <td>静岡県</td>\n",
       "      <td>天竜</td>\n",
       "      <td>40.6</td>\n",
       "      <td>1994-08-04</td>\n",
       "    </tr>\n",
       "    <tr>\n",
       "      <th>7</th>\n",
       "      <td>山梨県</td>\n",
       "      <td>勝沼</td>\n",
       "      <td>40.5</td>\n",
       "      <td>2013-08-10</td>\n",
       "    </tr>\n",
       "    <tr>\n",
       "      <th>8</th>\n",
       "      <td>埼玉県</td>\n",
       "      <td>越谷</td>\n",
       "      <td>40.4</td>\n",
       "      <td>2007-08-16</td>\n",
       "    </tr>\n",
       "    <tr>\n",
       "      <th>9</th>\n",
       "      <td>群馬県</td>\n",
       "      <td>館林</td>\n",
       "      <td>40.3</td>\n",
       "      <td>2007-08-16</td>\n",
       "    </tr>\n",
       "    <tr>\n",
       "      <th>10</th>\n",
       "      <td>群馬県</td>\n",
       "      <td>上里見</td>\n",
       "      <td>40.3</td>\n",
       "      <td>1998-07-04</td>\n",
       "    </tr>\n",
       "    <tr>\n",
       "      <th>11</th>\n",
       "      <td>愛知県</td>\n",
       "      <td>愛西</td>\n",
       "      <td>40.3</td>\n",
       "      <td>1994-08-05</td>\n",
       "    </tr>\n",
       "    <tr>\n",
       "      <th>14</th>\n",
       "      <td>愛媛県</td>\n",
       "      <td>宇和島</td>\n",
       "      <td>40.2</td>\n",
       "      <td>1927-07-22</td>\n",
       "    </tr>\n",
       "    <tr>\n",
       "      <th>12</th>\n",
       "      <td>千葉県</td>\n",
       "      <td>牛久</td>\n",
       "      <td>40.2</td>\n",
       "      <td>2004-07-20</td>\n",
       "    </tr>\n",
       "    <tr>\n",
       "      <th>13</th>\n",
       "      <td>静岡県</td>\n",
       "      <td>佐久間</td>\n",
       "      <td>40.2</td>\n",
       "      <td>2001-07-24</td>\n",
       "    </tr>\n",
       "    <tr>\n",
       "      <th>15</th>\n",
       "      <td>山形県</td>\n",
       "      <td>酒田</td>\n",
       "      <td>40.1</td>\n",
       "      <td>1978-08-03</td>\n",
       "    </tr>\n",
       "    <tr>\n",
       "      <th>16</th>\n",
       "      <td>岐阜県</td>\n",
       "      <td>美濃</td>\n",
       "      <td>40.0</td>\n",
       "      <td>2007-08-16</td>\n",
       "    </tr>\n",
       "    <tr>\n",
       "      <th>17</th>\n",
       "      <td>群馬県</td>\n",
       "      <td>前橋</td>\n",
       "      <td>40.0</td>\n",
       "      <td>2001-07-24</td>\n",
       "    </tr>\n",
       "    <tr>\n",
       "      <th>18</th>\n",
       "      <td>千葉県</td>\n",
       "      <td>茂原</td>\n",
       "      <td>39.9</td>\n",
       "      <td>2013-08-11</td>\n",
       "    </tr>\n",
       "    <tr>\n",
       "      <th>19</th>\n",
       "      <td>埼玉県</td>\n",
       "      <td>鳩山</td>\n",
       "      <td>39.9</td>\n",
       "      <td>1997-07-05</td>\n",
       "    </tr>\n",
       "    <tr>\n",
       "      <th>20</th>\n",
       "      <td>大阪府</td>\n",
       "      <td>豊中</td>\n",
       "      <td>39.9</td>\n",
       "      <td>1994-08-08</td>\n",
       "    </tr>\n",
       "    <tr>\n",
       "      <th>21</th>\n",
       "      <td>山梨県</td>\n",
       "      <td>大月</td>\n",
       "      <td>39.9</td>\n",
       "      <td>1990-07-19</td>\n",
       "    </tr>\n",
       "    <tr>\n",
       "      <th>22</th>\n",
       "      <td>山形県</td>\n",
       "      <td>鶴岡</td>\n",
       "      <td>39.9</td>\n",
       "      <td>1978-08-03</td>\n",
       "    </tr>\n",
       "    <tr>\n",
       "      <th>23</th>\n",
       "      <td>愛知県</td>\n",
       "      <td>名古屋</td>\n",
       "      <td>39.9</td>\n",
       "      <td>1942-08-02</td>\n",
       "    </tr>\n",
       "  </tbody>\n",
       "</table>\n",
       "</div>"
      ],
      "text/plain": [
       "       0     1     2           3\n",
       "0    高知県   江川崎  41.0  2013-08-12\n",
       "2    岐阜県   多治見  40.9  2007-08-16\n",
       "1    埼玉県    熊谷  40.9  2007-08-16\n",
       "3    山形県    山形  40.8  1933-07-25\n",
       "4    山梨県    甲府  40.7  2013-08-10\n",
       "5   和歌山県  かつらぎ  40.6  1994-08-08\n",
       "6    静岡県    天竜  40.6  1994-08-04\n",
       "7    山梨県    勝沼  40.5  2013-08-10\n",
       "8    埼玉県    越谷  40.4  2007-08-16\n",
       "9    群馬県    館林  40.3  2007-08-16\n",
       "10   群馬県   上里見  40.3  1998-07-04\n",
       "11   愛知県    愛西  40.3  1994-08-05\n",
       "14   愛媛県   宇和島  40.2  1927-07-22\n",
       "12   千葉県    牛久  40.2  2004-07-20\n",
       "13   静岡県   佐久間  40.2  2001-07-24\n",
       "15   山形県    酒田  40.1  1978-08-03\n",
       "16   岐阜県    美濃  40.0  2007-08-16\n",
       "17   群馬県    前橋  40.0  2001-07-24\n",
       "18   千葉県    茂原  39.9  2013-08-11\n",
       "19   埼玉県    鳩山  39.9  1997-07-05\n",
       "20   大阪府    豊中  39.9  1994-08-08\n",
       "21   山梨県    大月  39.9  1990-07-19\n",
       "22   山形県    鶴岡  39.9  1978-08-03\n",
       "23   愛知県   名古屋  39.9  1942-08-02"
      ]
     },
     "execution_count": 28,
     "metadata": {},
     "output_type": "execute_result"
    }
   ],
   "source": [
    "data2.sort_values(2,ascending=False)"
   ]
  },
  {
   "cell_type": "code",
   "execution_count": 29,
   "metadata": {},
   "outputs": [
    {
     "data": {
      "text/plain": [
       "埼玉県     3\n",
       "山形県     3\n",
       "山梨県     3\n",
       "群馬県     3\n",
       "愛知県     2\n",
       "千葉県     2\n",
       "岐阜県     2\n",
       "静岡県     2\n",
       "愛媛県     1\n",
       "高知県     1\n",
       "和歌山県    1\n",
       "大阪府     1\n",
       "Name: 0, dtype: int64"
      ]
     },
     "execution_count": 29,
     "metadata": {},
     "output_type": "execute_result"
    }
   ],
   "source": [
    "data2[0].value_counts()"
   ]
  },
  {
   "cell_type": "markdown",
   "metadata": {},
   "source": [
    "## 正規表現"
   ]
  },
  {
   "cell_type": "code",
   "execution_count": null,
   "metadata": {},
   "outputs": [],
   "source": [
    "import codecs\n",
    "json_df = pd.read_json('jawiki-country.json', lines=True)"
   ]
  },
  {
   "cell_type": "code",
   "execution_count": null,
   "metadata": {},
   "outputs": [],
   "source": []
  }
 ],
 "metadata": {
  "kernelspec": {
   "display_name": "Python 3",
   "language": "python",
   "name": "python3"
  },
  "language_info": {
   "codemirror_mode": {
    "name": "ipython",
    "version": 3
   },
   "file_extension": ".py",
   "mimetype": "text/x-python",
   "name": "python",
   "nbconvert_exporter": "python",
   "pygments_lexer": "ipython3",
   "version": "3.7.0"
  }
 },
 "nbformat": 4,
 "nbformat_minor": 2
}
